{
  "nbformat": 4,
  "nbformat_minor": 0,
  "metadata": {
    "colab": {
      "name": "ImageRetrievel.ipynb",
      "provenance": [],
      "authorship_tag": "ABX9TyPERE8UH4DoSjwqwlSuuDDs",
      "include_colab_link": true
    },
    "kernelspec": {
      "name": "python3",
      "display_name": "Python 3"
    },
    "language_info": {
      "name": "python"
    }
  },
  "cells": [
    {
      "cell_type": "markdown",
      "metadata": {
        "id": "view-in-github",
        "colab_type": "text"
      },
      "source": [
        "<a href=\"https://colab.research.google.com/github/MarkEbel/Image-retrievel/blob/main/ImageRetrievel.ipynb\" target=\"_parent\"><img src=\"https://colab.research.google.com/assets/colab-badge.svg\" alt=\"Open In Colab\"/></a>"
      ]
    },
    {
      "cell_type": "markdown",
      "metadata": {
        "id": "1gc1Xdn_t1iP"
      },
      "source": [
        "**Orginial**"
      ]
    },
    {
      "cell_type": "code",
      "metadata": {
        "id": "u3xWMsv3t2Ra"
      },
      "source": [
        "from PIL import Image\n",
        "import re\n",
        "import numpy as np\n",
        "import matplotlib.pyplot as plt\n",
        "from numba import jit, cuda\n",
        " \n",
        "def buildHistogram(location):\n",
        "  img = np.asarray(Image.open(\"./fruitnveg/\"+ location))\n",
        "  #img[row, column, channel (rgb)]\n",
        "  values = []\n",
        "  bins = 15\n",
        "  for i in img:\n",
        "    for j in i:\n",
        "      tmp = ((((bins*j[0])/256)*bins)*bins) + (((bins*j[1])/256)*bins + (j[2]*(bins))/256)\n",
        "      values.append(tmp)\n",
        "  \n",
        "  return values\n",
        "  \n",
        "\n",
        "#write ranked retrievel based on histograms and return top results\n",
        "# use histogram intersection\n",
        "def histogram_intersection(h1, h2):\n",
        "    sm = 0;\n",
        "    for i in range(15):\n",
        "        sm += min(h1[i], h2[i])\n",
        "    return sm\n",
        "\n",
        "def search(file):\n",
        "  v = buildHistogram(file)\n",
        "  intersections = {}\n",
        "  files = !ls fruitnveg\n",
        "  filesSplitted = tokenize(str(files))\n",
        "  filesSplitted.remove('[')\n",
        "  filesSplitted.remove(']')\n",
        "\n",
        "  for file in filesSplitted:\n",
        "    intersections[file] = histogram_intersection(v, buildHistogram(file))\n",
        "\n",
        "  sortedIntersections = {k: v for k, v in sorted(intersections.items(), key=lambda item: item[1], reverse = True)}\n",
        "  return list(sortedIntersections.keys())[0:5]\n",
        "\n",
        "DELIM = '[ \\r\\n\\t;:,/\\(\\)\\\"\\'-]+'\n",
        "def tokenize(text):\n",
        "    return re.split(DELIM, text.lower())\n",
        "\n",
        "search(\"img0000.png\")\n",
        " # find all histogram_intersections"
      ],
      "execution_count": null,
      "outputs": []
    },
    {
      "cell_type": "markdown",
      "metadata": {
        "id": "TLgbwEIit7DF"
      },
      "source": [
        "**Attempt at GPU usage**"
      ]
    },
    {
      "cell_type": "code",
      "metadata": {
        "id": "5TD7EqZstd5J"
      },
      "source": [
        "from numba import cuda\n",
        "from PIL import Image\n",
        "import re\n",
        "import numpy as np\n",
        "import matplotlib.pyplot as plt\n",
        "from numba import jit, cuda\n",
        "@jit(nopython=True)\n",
        "def buildHistogram(location):\n",
        "  img = np.asarray(Image.open(\"./fruitnveg/\"+ location))\n",
        "  #img[row, column, channel (rgb)]\n",
        "  values = []\n",
        "  bins = 15\n",
        "  for i in img:\n",
        "    for j in i:\n",
        "      tmp = ((((bins*j[0])/256)*bins)*bins) + (((bins*j[1])/256)*bins + (j[2]*(bins))/256)\n",
        "      values.append(tmp)\n",
        "  \n",
        "  return values\n",
        "  \n",
        "\n",
        "#write ranked retrievel based on histograms and return top results\n",
        "# use histogram intersection\n",
        "def histogram_intersection(h1, h2):\n",
        "    sm = 0;\n",
        "    for i in range(15):\n",
        "        sm += min(h1[i], h2[i])\n",
        "    return sm\n",
        "\n",
        "DELIM = '[ \\r\\n\\t;:,/\\(\\)\\\"\\'-]+'\n",
        "@jit(nopython=True)\n",
        "def tokenize(text):\n",
        "    return re.split(DELIM, text.lower())\n",
        "\n",
        "@cuda.jit\n",
        "def my_kernel(io_array):\n",
        "    \"\"\"\n",
        "    Code for kernel.\n",
        "    \"\"\"\n",
        "    # code here\n",
        "    filesSplitted = tokenize(str(io_array))\n",
        "    filesSplitted.remove('[')\n",
        "    filesSplitted.remove(']')\n",
        "    histograms = {}\n",
        "\n",
        "    for file in filesSplitted:\n",
        "      histograms[file] = buildHistogram(file)\n",
        "    io_array = histograms\n",
        "\n",
        "import numpy\n",
        "\n",
        "# Create the data array - usually initialized some other way\n",
        "data = numpy.ones(256)\n",
        "\n",
        "# Set the number of threads in a block\n",
        "threadsperblock = 32 \n",
        "\n",
        "# Calculate the number of thread blocks in the grid\n",
        "blockspergrid = (data.size + (threadsperblock - 1)) // threadsperblock\n",
        "\n",
        "# Now start the kernel\n",
        "data = !ls fruitnveg\n",
        "my_kernel[blockspergrid, threadsperblock](data)\n",
        "\n",
        "# Print the result\n",
        "print(data)"
      ],
      "execution_count": null,
      "outputs": []
    }
  ]
}